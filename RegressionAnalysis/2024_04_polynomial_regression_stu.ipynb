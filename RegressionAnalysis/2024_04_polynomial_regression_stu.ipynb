{
  "cells": [
    {
      "cell_type": "markdown",
      "metadata": {
        "id": "teO1LFCecyfp"
      },
      "source": [
        "# 다항식 회귀분석(Polynomial Regression)"
      ]
    },
    {
      "cell_type": "markdown",
      "metadata": {
        "id": "GafgCkPQcyfr"
      },
      "source": [
        "### FB(x), TV(y), Newspaper(z)라 할때 다항식 xy를 삽입하여 xy, y, z 로 다중선형회귀분석"
      ]
    },
    {
      "cell_type": "code",
      "execution_count": 6,
      "metadata": {
        "colab": {
          "base_uri": "https://localhost:8080/"
        },
        "id": "oHV2xUSOcyfs",
        "outputId": "51838448-3d75-4440-dc34-b9b7667a4411"
      },
      "outputs": [
        {
          "output_type": "stream",
          "name": "stdout",
          "text": [
            "beta_0: 0.001074\n",
            "beta_1: 0.020130\n",
            "beta_2: 0.029456\n",
            "beta_3: 6.596782\n",
            "MSE on train data: 0.924063\n",
            "MSE on test data: 0.685722\n",
            "train의 결정계수: 0.966346\n",
            "test의 결정계수: 0.972695\n"
          ]
        }
      ],
      "source": [
        "import numpy as np\n",
        "from sklearn.linear_model import LinearRegression\n",
        "from sklearn.metrics import mean_squared_error, r2_score\n",
        "from sklearn.model_selection import train_test_split\n",
        "\n",
        "# 데이터 로드\n",
        "data = np.loadtxt(\"/content/FB_TV_News_sales.csv\", delimiter=',', skiprows=1)\n",
        "X = data[:, 1:-1]  # X는 페이스북(FB), TV, 신문(Newspaper) 광고비\n",
        "Y = data[:, -1]  # Y는 판매량\n",
        "\n",
        "# 다항식 특성 구성: FB와 TV의 곱 (xy)\n",
        "FB = X[:, 0]  # FB 광고비\n",
        "TV = X[:, 1]  # TV 광고비\n",
        "poly = FB * TV  # FB와 TV의 곱\n",
        "\n",
        "# 원래 특성 배열에 다항 특성 추가\n",
        "xpoly = np.column_stack((poly, X))\n",
        "\n",
        "# 데이터 분할: 훈련 데이터와 테스트 데이터\n",
        "x_train, x_test, y_train, y_test = train_test_split(xpoly, Y, test_size=0.2, random_state=5)\n",
        "\n",
        "# 선형 회귀 모델 생성 및 훈련\n",
        "lrmodel = LinearRegression()\n",
        "lrmodel.fit(x_train, y_train)\n",
        "\n",
        "# 계수 및 절편 추출\n",
        "beta_0 = lrmodel.coef_[0]  # FB*TV의 계수\n",
        "beta_1 = lrmodel.coef_[1]  # TV의 계수\n",
        "beta_2 = lrmodel.coef_[2]  # 신문의 계수\n",
        "beta_3 = lrmodel.intercept_  # 절편\n",
        "\n",
        "print('beta_0: %f' % beta_0)\n",
        "print('beta_1: %f' % beta_1)\n",
        "print('beta_2: %f' % beta_2)\n",
        "print('beta_3: %f' % beta_3)\n",
        "\n",
        "# 훈련 데이터와 테스트 데이터에 대한 예측\n",
        "predicted_y_train = lrmodel.predict(x_train)\n",
        "predicted_y_test = lrmodel.predict(x_test)\n",
        "\n",
        "# MSE 계산\n",
        "mse_train = mean_squared_error(y_train, predicted_y_train)\n",
        "mse_test = mean_squared_error(y_test, predicted_y_test)\n",
        "print(\"MSE on train data: %f\" % mse_train)\n",
        "print(\"MSE on test data: %f\" % mse_test)\n",
        "\n",
        "# 결정계수 R^2 계산\n",
        "r2_train = r2_score(y_train, predicted_y_train)\n",
        "r2_test = r2_score(y_test, predicted_y_test)\n",
        "print(\"train의 결정계수: %f\" % r2_train)\n",
        "print(\"test의 결정계수: %f\" % r2_test)\n"
      ]
    },
    {
      "cell_type": "markdown",
      "metadata": {
        "id": "al95Ul-Vcyft"
      },
      "source": [
        "### 다항식 x^3,x^2를 삽입하여 x^3,x^2, xy, y, z 로 다중선형회귀분석"
      ]
    },
    {
      "cell_type": "code",
      "execution_count": 9,
      "metadata": {
        "colab": {
          "base_uri": "https://localhost:8080/"
        },
        "id": "woK-NpL7cyfu",
        "outputId": "192f2f45-6e09-4127-c4d4-af6066c3194f"
      },
      "outputs": [
        {
          "output_type": "stream",
          "name": "stdout",
          "text": [
            "beta_0: -0.000001\n",
            "beta_1: 0.000231\n",
            "beta_2: 0.001206\n",
            "beta_3: 0.010364\n",
            "beta_4: 0.005343\n",
            "beta_5: 6.999073\n",
            "MSE on train data: 0.881124\n",
            "MSE on test data: 0.602364\n",
            "Train 결정계수: 0.967910\n",
            "Test 결정계수: 0.976014\n"
          ]
        }
      ],
      "source": [
        "import numpy as np\n",
        "from sklearn.linear_model import LinearRegression\n",
        "from sklearn.metrics import mean_squared_error, r2_score\n",
        "from sklearn.model_selection import train_test_split\n",
        "\n",
        "# 데이터 로드\n",
        "data = np.loadtxt(\"FB_TV_News_sales.csv\", delimiter=',', skiprows=1)\n",
        "X = data[:, 1:-1]  # FB, TV, 신문 광고비 순으로 가정\n",
        "Y = data[:, -1]    # 판매량, 종속 변수\n",
        "\n",
        "# 다항식 특성 계산\n",
        "FB = X[:, 0]  # FB 광고비\n",
        "TV = X[:, 1]  # TV 광고비\n",
        "Newspaper = X[:, 2]  # 신문 광고비\n",
        "\n",
        "# FB와 TV의 교호작용 항\n",
        "xy = FB * TV\n",
        "\n",
        "# FB의 제곱 및 세제곱\n",
        "p1 = FB**3  # FB 세제곱\n",
        "p2 = FB**2  # FB 제곱\n",
        "\n",
        "# 새로운 특성 행렬 구성: x^3, x^2, xy, y, z\n",
        "xpoly = np.column_stack((p1, p2, xy, TV, Newspaper))\n",
        "\n",
        "# 데이터 분할: 훈련 세트와 테스트 세트\n",
        "x_train, x_test, y_train, y_test = train_test_split(xpoly, Y, test_size=0.2, random_state=5)\n",
        "\n",
        "# 선형 회귀 모델 생성 및 학습\n",
        "lrmodel = LinearRegression()\n",
        "lrmodel.fit(x_train, y_train)\n",
        "\n",
        "# 회귀 계수 추출\n",
        "beta_0 = lrmodel.coef_[0]  # x^3 계수\n",
        "beta_1 = lrmodel.coef_[1]  # x^2 계수\n",
        "beta_2 = lrmodel.coef_[2]  # xy 계수\n",
        "beta_3 = lrmodel.coef_[3]  # TV 계수\n",
        "beta_4 = lrmodel.coef_[4]  # 신문 계수\n",
        "beta_5 = lrmodel.intercept_  # 절편\n",
        "\n",
        "# 계수 출력\n",
        "print('beta_0: %f' % beta_0)\n",
        "print('beta_1: %f' % beta_1)\n",
        "print('beta_2: %f' % beta_2)\n",
        "print('beta_3: %f' % beta_3)\n",
        "print('beta_4: %f' % beta_4)\n",
        "print('beta_5: %f' % beta_5)\n",
        "\n",
        "# 예측 및 성능 평가\n",
        "predicted_y_train = lrmodel.predict(x_train)\n",
        "mse_train = mean_squared_error(y_train, predicted_y_train)\n",
        "print(\"MSE on train data: %f\" % mse_train)\n",
        "\n",
        "predicted_y_test = lrmodel.predict(x_test)\n",
        "mse_test = mean_squared_error(y_test, predicted_y_test)\n",
        "print(\"MSE on test data: %f\" % mse_test)\n",
        "\n",
        "r2_train = r2_score(y_train, predicted_y_train)\n",
        "r2_test = r2_score(y_test, predicted_y_test)\n",
        "print(\"Train 결정계수: %f\" % r2_train)\n",
        "print(\"Test 결정계수: %f\" % r2_test)\n"
      ]
    },
    {
      "cell_type": "markdown",
      "metadata": {
        "id": "SJKbISpFcyfu"
      },
      "source": [
        "### 다항식 x^5,x^4를 삽입하여 x^5,x^4, x^3,x^2, xy, y, z 로 다중선형회귀분석"
      ]
    },
    {
      "cell_type": "code",
      "execution_count": 8,
      "metadata": {
        "colab": {
          "base_uri": "https://localhost:8080/"
        },
        "id": "8pyNuqIicyfu",
        "outputId": "021da1fd-a461-4699-a6d3-eac2640ea32a"
      },
      "outputs": [
        {
          "output_type": "stream",
          "name": "stdout",
          "text": [
            "beta_0: -0.000000\n",
            "beta_1: 0.000000\n",
            "beta_2: -0.000016\n",
            "beta_3: 0.001476\n",
            "beta_4: 0.001078\n",
            "beta_5: 0.034631\n",
            "beta_6: 0.003401\n",
            "beta_7: 5.199690\n",
            "MSE on train data: 0.393816\n",
            "MSE on test data: 0.262254\n",
            "train의 결정계수: 0.985657\n",
            "test의 결정계수: 0.989557\n"
          ]
        }
      ],
      "source": [
        "import numpy as np\n",
        "from sklearn.linear_model import LinearRegression\n",
        "from sklearn.metrics import mean_squared_error, r2_score\n",
        "from sklearn.model_selection import train_test_split\n",
        "\n",
        "# 데이터 로드\n",
        "data = np.loadtxt(\"FB_TV_News_sales.csv\", delimiter=',', skiprows=1)\n",
        "X = data[:, 1:-1]  # FB, TV, Newspaper\n",
        "Y = data[:, -1]    # Sales\n",
        "\n",
        "# FB 광고비 (x)\n",
        "FB = X[:, 0]\n",
        "# 다항식 특성 계산\n",
        "p1 = FB**5  # FB^5\n",
        "p2 = FB**4  # FB^4\n",
        "p3 = FB**3  # FB^3\n",
        "p4 = FB**2  # FB^2\n",
        "xy = FB * X[:, 1]  # FB * TV\n",
        "\n",
        "# 기존 y, z 특성\n",
        "Y_TV_Newspaper = X[:, 1:3]\n",
        "\n",
        "# 새로운 특성 배열 구성\n",
        "xpoly = np.column_stack((p1, p2, p3, p4, xy, Y_TV_Newspaper))\n",
        "\n",
        "# 데이터 분할: 훈련 데이터와 테스트 데이터\n",
        "x_train, x_test, y_train, y_test = train_test_split(xpoly, Y, test_size=0.2, random_state=5)\n",
        "\n",
        "# 선형 회귀 모델 생성 및 학습\n",
        "lrmodel = LinearRegression()\n",
        "lrmodel.fit(x_train, y_train)\n",
        "\n",
        "# 회귀 계수 추출\n",
        "coefficients = lrmodel.coef_\n",
        "beta_0, beta_1, beta_2, beta_3, beta_4, beta_5, beta_6 = coefficients\n",
        "beta_7 = lrmodel.intercept_\n",
        "\n",
        "# 결과 출력\n",
        "print('beta_0: %f' % beta_0)\n",
        "print('beta_1: %f' % beta_1)\n",
        "print('beta_2: %f' % beta_2)\n",
        "print('beta_3: %f' % beta_3)\n",
        "print('beta_4: %f' % beta_4)\n",
        "print('beta_5: %f' % beta_5)\n",
        "print('beta_6: %f' % beta_6)\n",
        "print('beta_7: %f' % beta_7)\n",
        "\n",
        "# 예측 및 성능 평가\n",
        "predicted_y_train = lrmodel.predict(x_train)\n",
        "mse_train = mean_squared_error(y_train, predicted_y_train)\n",
        "print(\"MSE on train data: %f\" % mse_train)\n",
        "\n",
        "predicted_y_test = lrmodel.predict(x_test)\n",
        "mse_test = mean_squared_error(y_test, predicted_y_test)\n",
        "print(\"MSE on test data: %f\" % mse_test)\n",
        "\n",
        "r2_train = r2_score(y_train, predicted_y_train)\n",
        "r2_test = r2_score(y_test, predicted_y_test)\n",
        "print(\"train의 결정계수: %f\" % r2_train)\n",
        "print(\"test의 결정계수: %f\" % r2_test)\n"
      ]
    },
    {
      "cell_type": "markdown",
      "metadata": {
        "id": "A7IcHFq0cyfv"
      },
      "source": [
        "# 참고"
      ]
    },
    {
      "cell_type": "code",
      "execution_count": 10,
      "metadata": {
        "colab": {
          "base_uri": "https://localhost:8080/"
        },
        "id": "zLhkeILycyfv",
        "outputId": "f07f80ef-3fa0-4910-eea0-7191129a8644"
      },
      "outputs": [
        {
          "output_type": "stream",
          "name": "stdout",
          "text": [
            "[[0 1]\n",
            " [2 3]\n",
            " [4 5]]\n",
            "[[ 1.  0.  1.  0.  0.  1.]\n",
            " [ 1.  2.  3.  4.  6.  9.]\n",
            " [ 1.  4.  5. 16. 20. 25.]]\n",
            "[[ 1.  0.  1.  0.]\n",
            " [ 1.  2.  3.  6.]\n",
            " [ 1.  4.  5. 20.]]\n",
            "[[0 1]\n",
            " [2 3]\n",
            " [4 5]]\n"
          ]
        }
      ],
      "source": [
        "from sklearn.preprocessing import PolynomialFeatures\n",
        "X = np.arange(6).reshape(3, 2)\n",
        "print(X)\n",
        "\n",
        "\n",
        "poly = PolynomialFeatures(2) #degree=2 , 2차식 (1,x1,x2,x1^2,x1*x2,x2^2)\n",
        "poly=poly.fit_transform(X)\n",
        "print(poly)\n",
        "\n",
        "\n",
        "poly = PolynomialFeatures(degree=2,interaction_only=True)\n",
        "#interaction_only: True면 2차항에서 상호작용항만 출력\n",
        "poly=poly.fit_transform(X)\n",
        "print(poly)\n",
        "\n",
        "print(X) #X는 그대로"
      ]
    },
    {
      "cell_type": "code",
      "execution_count": 11,
      "metadata": {
        "colab": {
          "base_uri": "https://localhost:8080/"
        },
        "id": "g5I1gEbxcyfw",
        "outputId": "03520cbe-8671-4eed-adaa-a1cc0a774f37"
      },
      "outputs": [
        {
          "output_type": "stream",
          "name": "stdout",
          "text": [
            "[[  1.   0.   1.   0.   0.   1.   0.   0.   0.   1.]\n",
            " [  1.   2.   3.   4.   6.   9.   8.  12.  18.  27.]\n",
            " [  1.   4.   5.  16.  20.  25.  64.  80. 100. 125.]]\n",
            "[[ 1.  0.  1.  0.]\n",
            " [ 1.  2.  3.  6.]\n",
            " [ 1.  4.  5. 20.]]\n"
          ]
        }
      ],
      "source": [
        "poly=PolynomialFeatures(3) #1, x1, x2, x1^2, x1*x2, x2^2, x1^3, x1^2 * x2, x1 * x2^2, x2^3\n",
        "poly=poly.fit_transform(X)\n",
        "print(poly)\n",
        "\n",
        "poly = PolynomialFeatures(degree=3,interaction_only=True)\n",
        "#interaction_only: True면 2차항에서 상호작용항만 출력\n",
        "poly=poly.fit_transform(X)\n",
        "print(poly)"
      ]
    },
    {
      "cell_type": "markdown",
      "metadata": {
        "id": "r3a7CbExcyfw"
      },
      "source": [
        "## PolynomialFeatures활용하여 비교"
      ]
    },
    {
      "cell_type": "code",
      "execution_count": 12,
      "metadata": {
        "colab": {
          "base_uri": "https://localhost:8080/"
        },
        "id": "GbI7wd6Jcyfw",
        "outputId": "0e0482cc-17ee-4e65-a2fc-ba73384f6616"
      },
      "outputs": [
        {
          "output_type": "stream",
          "name": "stdout",
          "text": [
            "변인 개수: 10\n",
            "MSE on train data: 0.388436\n",
            "MSE on train data: 0.283414\n",
            "train의 결정계수:0.985853\n",
            "test의 결정계수:0.988714\n"
          ]
        }
      ],
      "source": [
        "import numpy as np\n",
        "from sklearn.linear_model import LinearRegression\n",
        "from sklearn.metrics import mean_squared_error\n",
        "from sklearn.model_selection import train_test_split\n",
        "from sklearn.metrics import r2_score\n",
        "from sklearn.preprocessing import PolynomialFeatures\n",
        "\n",
        "data=np.loadtxt(\"FB_TV_News_sales.csv\",delimiter=',',skiprows=1)\n",
        "X=data[:,1:-1]\n",
        "Y=data[:,-1]\n",
        "\n",
        "#\n",
        "poly = PolynomialFeatures(2) #poly = PolynomialFeatures(degree=2,interaction_only=True)와 비교\n",
        "poly = poly.fit_transform(X)\n",
        "x_train, x_test, y_train, y_test=train_test_split(poly,Y,test_size=0.2,random_state=5)\n",
        "print('변인 개수:',len(x_train[0])) # 다항식 몇개인지 알아봄 10개\n",
        "\n",
        "lrmodel=LinearRegression()\n",
        "lrmodel.fit(x_train,y_train)\n",
        "\n",
        "predicted_y_train=lrmodel.predict(x_train)\n",
        "mse_train=mean_squared_error(y_train,predicted_y_train)\n",
        "print(\"MSE on train data: %f\"%mse_train)\n",
        "\n",
        "predicted_y_test=lrmodel.predict(x_test)\n",
        "mse_test=mean_squared_error(y_test,predicted_y_test)\n",
        "print(\"MSE on train data: %f\"%mse_test)\n",
        "\n",
        "\n",
        "r2_train = r2_score(y_train, predicted_y_train)\n",
        "r2_test = r2_score(y_test, predicted_y_test)\n",
        "print(\"train의 결정계수:%f\"%r2_train)\n",
        "print(\"test의 결정계수:%f\"%r2_test)"
      ]
    },
    {
      "cell_type": "code",
      "execution_count": 13,
      "metadata": {
        "colab": {
          "base_uri": "https://localhost:8080/"
        },
        "id": "e4pOtcOqcyfx",
        "outputId": "61e861f6-65ad-479b-cae4-aee3cec292f5"
      },
      "outputs": [
        {
          "output_type": "stream",
          "name": "stdout",
          "text": [
            "변인 개수: 20\n",
            "MSE on train data: 0.220547\n",
            "MSE on train data: 0.220674\n",
            "train의 결정계수:0.991968\n",
            "test의 결정계수:0.991213\n"
          ]
        }
      ],
      "source": [
        "import numpy as np\n",
        "from sklearn.linear_model import LinearRegression\n",
        "from sklearn.metrics import mean_squared_error\n",
        "from sklearn.model_selection import train_test_split\n",
        "from sklearn.metrics import r2_score\n",
        "from sklearn.preprocessing import PolynomialFeatures  #활용\n",
        "\n",
        "data=np.loadtxt(\"FB_TV_News_sales.csv\",delimiter=',',skiprows=1)\n",
        "X=data[:,1:-1]\n",
        "Y=data[:,-1]\n",
        "\n",
        "#다항식 구성\n",
        "poly = PolynomialFeatures(degree=3)\n",
        "poly = poly.fit_transform(X)\n",
        "\n",
        "x_train, x_test, y_train, y_test=train_test_split(poly,Y,test_size=0.2,random_state=5)\n",
        "print('변인 개수:',len(x_train[0])) # 다항식 몇개인지 알아봄 20개\n",
        "\n",
        "lrmodel=LinearRegression()\n",
        "lrmodel.fit(x_train,y_train)\n",
        "\n",
        "#for i in range(20):\n",
        "#    print(lrmodel.coef_[i])\n",
        "\n",
        "#print('절편:',lrmodel.intercept_)\n",
        "\n",
        "\n",
        "predicted_y_train=lrmodel.predict(x_train)\n",
        "mse_train=mean_squared_error(y_train,predicted_y_train)\n",
        "print(\"MSE on train data: %f\"%mse_train)\n",
        "\n",
        "predicted_y_test=lrmodel.predict(x_test)\n",
        "mse_test=mean_squared_error(y_test,predicted_y_test)\n",
        "print(\"MSE on train data: %f\"%mse_test)\n",
        "\n",
        "\n",
        "r2_train = r2_score(y_train, predicted_y_train)\n",
        "r2_test = r2_score(y_test, predicted_y_test)\n",
        "print(\"train의 결정계수:%f\"%r2_train)\n",
        "print(\"test의 결정계수:%f\"%r2_test)"
      ]
    }
  ],
  "metadata": {
    "kernelspec": {
      "display_name": "Python 3 (ipykernel)",
      "language": "python",
      "name": "python3"
    },
    "language_info": {
      "codemirror_mode": {
        "name": "ipython",
        "version": 3
      },
      "file_extension": ".py",
      "mimetype": "text/x-python",
      "name": "python",
      "nbconvert_exporter": "python",
      "pygments_lexer": "ipython3",
      "version": "3.11.5"
    },
    "colab": {
      "provenance": []
    }
  },
  "nbformat": 4,
  "nbformat_minor": 0
}