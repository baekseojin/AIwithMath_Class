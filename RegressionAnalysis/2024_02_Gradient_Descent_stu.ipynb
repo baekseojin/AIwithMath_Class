{
  "cells": [
    {
      "cell_type": "markdown",
      "metadata": {
        "id": "UtCvv3hBqY6k"
      },
      "source": [
        "## @(내적) 연산자 이해"
      ]
    },
    {
      "cell_type": "code",
      "execution_count": 1,
      "metadata": {
        "id": "Jtaw6ZZdRR2C",
        "colab": {
          "base_uri": "https://localhost:8080/"
        },
        "outputId": "a88eba22-9ce5-425c-b1b2-ad11c646ee70"
      },
      "outputs": [
        {
          "output_type": "stream",
          "name": "stdout",
          "text": [
            "[[3 4 1]\n",
            " [2 4 2]\n",
            " [4 7 3]]\n",
            "30\n"
          ]
        }
      ],
      "source": [
        "import numpy as np\n",
        "a = np.array([[1,2,0],[1,0,1],[2,1,1]])\n",
        "b = np.array([[1,2,1],[1,1,0],[1,2,1]])\n",
        "# 1 2 0 / 2 2 0 / 1 0 0 => 3 4 1\n",
        "# 1 0 1 / 2 0 2 / 1 0 1 => 2 4 2\n",
        "# 2 1 1 / 4 1 2 / 2 0 1 => 4 7 3\n",
        "print(a@b)\n",
        "print(np.sum(a@b))"
      ]
    },
    {
      "cell_type": "code",
      "execution_count": 2,
      "metadata": {
        "colab": {
          "base_uri": "https://localhost:8080/"
        },
        "id": "hR0YJnjAqY6m",
        "outputId": "0fe0eaaf-417e-40db-8c5f-7f31162a6ed1"
      },
      "outputs": [
        {
          "output_type": "stream",
          "name": "stdout",
          "text": [
            "[[3 4 1]\n",
            " [2 4 2]\n",
            " [4 7 3]]\n"
          ]
        }
      ],
      "source": [
        "print(np.dot(a,b)) # dot은 내적연산자랑 같다"
      ]
    },
    {
      "cell_type": "code",
      "execution_count": 3,
      "metadata": {
        "colab": {
          "base_uri": "https://localhost:8080/"
        },
        "id": "7YRD6HabqY6m",
        "outputId": "6d9a24b4-d87b-449d-ca76-b8c139956718"
      },
      "outputs": [
        {
          "output_type": "stream",
          "name": "stdout",
          "text": [
            "[[3 4 1]\n",
            " [2 4 2]\n",
            " [4 7 3]]\n"
          ]
        }
      ],
      "source": [
        "print(a.dot(b))"
      ]
    },
    {
      "cell_type": "code",
      "execution_count": 4,
      "metadata": {
        "colab": {
          "base_uri": "https://localhost:8080/"
        },
        "id": "4cnl4_mpqY6n",
        "outputId": "4abe8b8b-078b-4ad3-ca18-11b900084e3a"
      },
      "outputs": [
        {
          "output_type": "stream",
          "name": "stdout",
          "text": [
            "(3, 3)\n",
            "[[1 2 0 1 0 1 2 1 1]]\n"
          ]
        }
      ],
      "source": [
        "print(a.shape)\n",
        "A = a.reshape(1,9) # 행 1개가 있기 때문에 대괄호 2개로 감싼다\n",
        "print(A)"
      ]
    },
    {
      "cell_type": "markdown",
      "metadata": {
        "id": "psKT-OGtRXdm"
      },
      "source": [
        "**P. 54 [예제]**"
      ]
    },
    {
      "cell_type": "code",
      "execution_count": 5,
      "metadata": {
        "id": "fafyQtNDReUP",
        "colab": {
          "base_uri": "https://localhost:8080/"
        },
        "outputId": "27f2c349-160d-4030-b6e6-d82cdb338a05"
      },
      "outputs": [
        {
          "output_type": "stream",
          "name": "stdout",
          "text": [
            "[[6 3 9]\n",
            " [3 0 9]\n",
            " [0 0 9]]\n"
          ]
        }
      ],
      "source": [
        "import numpy as np\n",
        "\n",
        "seven = np.array([[0,1,1,1,0],\n",
        "                   [0,1,0,1,0],\n",
        "                   [0,0,0,1,0],\n",
        "                   [0,0,0,1,0],\n",
        "                   [0,0,0,1,0]])\n",
        "A = np.array([[0,0,0],[1,1,1],[0,0,0]]) #3×3 행렬\n",
        "\n",
        "S = []\n",
        "for i in range( 3 ) :\n",
        "    for j in range( 3 ) :\n",
        "        M = seven[i : i+3, j : j+3]\n",
        "        S.append((M@A).sum())\n",
        "S = np.array(S).reshape(3,3)\n",
        "print( S )\n"
      ]
    },
    {
      "cell_type": "markdown",
      "metadata": {
        "id": "p9CdL70dAX2C"
      },
      "source": [
        "**P. 56 [프로젝트] 숫자 이미지 차원 줄여 표현해보기**"
      ]
    },
    {
      "cell_type": "code",
      "execution_count": 8,
      "metadata": {
        "id": "q8BTDG_e5CWG"
      },
      "outputs": [],
      "source": [
        "#단계1: 숫자 행렬 차원 줄이기\n",
        "import numpy as np\n",
        "import matplotlib.pyplot as plt\n",
        "\n",
        "seven = np.array([[0,1,1,1,0],\n",
        "                  [0,1,0,1,0],\n",
        "                  [0,0,0,1,0],\n",
        "                  [0,0,0,1,0],\n",
        "                  [0,0,0,1,0]])\n",
        "A = np.array([[0,0,0],[1,1,1],[0,0,0]])  #3×3 행렬\n",
        "S = []\n",
        "for i in range( 3 ) :\n",
        "    for j in range( 3 ) :\n",
        "        M = seven[ i : i+3, j : j+3 ]\n",
        "        S.append( (M@A).sum() )\n",
        "S = np.array(S).reshape(3,3)\n"
      ]
    },
    {
      "cell_type": "code",
      "execution_count": 7,
      "metadata": {
        "id": "cVHetrgX5Mbv",
        "colab": {
          "base_uri": "https://localhost:8080/"
        },
        "outputId": "a03cfa41-c678-4f22-9dd0-c7d3ed52b9bb"
      },
      "outputs": [
        {
          "output_type": "stream",
          "name": "stdout",
          "text": [
            "[[[0.6 0.  0. ]\n",
            "  [0.3 0.  0. ]\n",
            "  [0.9 0.  0. ]]\n",
            "\n",
            " [[0.3 0.  0. ]\n",
            "  [1.  1.  1. ]\n",
            "  [0.9 0.  0. ]]\n",
            "\n",
            " [[1.  1.  1. ]\n",
            "  [1.  1.  1. ]\n",
            "  [0.9 0.  0. ]]]\n"
          ]
        }
      ],
      "source": [
        "#단계2: 픽셀당 RGB 값 부여하여 이미지 데이터 만들기\n",
        "\n",
        "imgData1 = np.zeros((5, 5, 3))\n",
        "for i in range(len(seven)) :\n",
        "    for j in range(len(seven[i]) ) :\n",
        "        if not seven[i][j] :\n",
        "            imgData1[i][j] = [1, 1, 1]    # 흰색\n",
        "\n",
        "imgData2 = np.zeros((3, 3, 3))\n",
        "for i in range(len(S)) :\n",
        "    for j in range(len(S[i]) ) :\n",
        "        if S[i][j] :\n",
        "            imgData2[i][j] = [S[i][j]*0.1, 0, 0]   # 빨간색\n",
        "        else :\n",
        "            imgData2[i][j] = [1, 1, 1]\n",
        "\n",
        "print(imgData2)"
      ]
    },
    {
      "cell_type": "code",
      "execution_count": 8,
      "metadata": {
        "id": "v7JtZ5jv5UlV",
        "colab": {
          "base_uri": "https://localhost:8080/",
          "height": 291
        },
        "outputId": "ec25ff59-bedc-49f5-81fe-1dfacbd95d13"
      },
      "outputs": [
        {
          "output_type": "display_data",
          "data": {
            "text/plain": [
              "<Figure size 640x480 with 2 Axes>"
            ],
            "image/png": "[encoded data removed]"
          },
          "metadata": {}
        }
      ],
      "source": [
        "# 단계3: 만들어 놓은 이미지 데이터로 색을 표현하기\n",
        "fig = plt.figure()\n",
        "rows=1\n",
        "cols=2\n",
        "ax1 = fig.add_subplot(rows, cols, 1)\n",
        "ax1.imshow(imgData1)\n",
        "ax2 = fig.add_subplot(rows, cols, 2)\n",
        "ax2.imshow(imgData2)\n",
        "plt.show()"
      ]
    },
    {
      "cell_type": "markdown",
      "metadata": {
        "id": "HsOfZdn6YUcl"
      },
      "source": [
        "# Ⅱ 학습 및 최적화"
      ]
    },
    {
      "cell_type": "markdown",
      "metadata": {
        "id": "FpQXQ6_bQPls"
      },
      "source": [
        "**P. 94 [코딩으로 해결하기]**"
      ]
    },
    {
      "cell_type": "code",
      "execution_count": 9,
      "metadata": {
        "id": "KnooPLhvQTTi",
        "colab": {
          "base_uri": "https://localhost:8080/"
        },
        "outputId": "5b5ae1ba-791a-4866-cb09-4ce4f01515fb"
      },
      "outputs": [
        {
          "output_type": "stream",
          "name": "stdout",
          "text": [
            "정국 : 18.00\n",
            "예린 : 2.00\n"
          ]
        }
      ],
      "source": [
        "import numpy as np\n",
        "X = np.array([1, 3, 5, 7])\n",
        "Y = np.array([4, 2, 3, 1])\n",
        "y1 = -X + 5\n",
        "y2 = -1/2*X + 9/2\n",
        "print('정국 : %.2f' %(np.sum((Y-y1)**2)))\n",
        "print('예린 : %.2f' %(np.sum((Y-y2)**2)))"
      ]
    },
    {
      "cell_type": "markdown",
      "metadata": {
        "id": "7BZz2QblQoIZ"
      },
      "source": [
        "**p.101 [프로젝트] 파이선으로 경사하강법 구현해보기**"
      ]
    },
    {
      "cell_type": "code",
      "execution_count": 4,
      "metadata": {
        "id": "a0Mn0zFKQty2",
        "colab": {
          "base_uri": "https://localhost:8080/",
          "height": 557
        },
        "outputId": "44936585-3f78-4744-f71b-7116abc92226"
      },
      "outputs": [
        {
          "output_type": "stream",
          "name": "stdout",
          "text": [
            "iter = 0, loss = 0.50, w = (7.00, -0.98)\n",
            "iter = 1000, loss = 0.23, w = (6.00, -0.73)\n",
            "iter = 2000, loss = 0.23, w = (5.98, -0.73)\n",
            "iter = 3000, loss = 0.23, w = (5.98, -0.73)\n",
            "iter = 4000, loss = 0.23, w = (5.98, -0.73)\n",
            "손실함수 초깃값: 0.50\n",
            "손실함수 최종값: 0.23\n"
          ]
        },
        {
          "output_type": "display_data",
          "data": {
            "text/plain": [
              "<Figure size 640x480 with 1 Axes>"
            ],
            "image/png": "[encoded data removed]"
          },
          "metadata": {}
        }
      ],
      "source": [
        "import numpy as np\n",
        "\n",
        "# 선형 회귀 모델 예측 함수\n",
        "def pred(x, w):\n",
        "    # x는 입력 데이터, w는 가중치이며, 두 행렬의 내적을 반환\n",
        "    return x @ w\n",
        "\n",
        "# 입력 데이터 (x1 = 1은 절편을 위한 상수항)\n",
        "x = np.array([[1, 1], [1, 3], [1, 5], [1, 6]])  # (4,2) 크기\n",
        "yt = np.array([5, 4, 3, 1])  # 실제값 (목표값)\n",
        "\n",
        "# 초기 가중치 설정\n",
        "w = np.array([7, -1])  # (2,) 크기, 초기 가중치\n",
        "\n",
        "# 학습 반복 횟수\n",
        "iters = 5000\n",
        "# 학습률 설정\n",
        "alpha = 0.01\n",
        "\n",
        "# 손실 함수 값을 저장할 리스트\n",
        "history = [[0, 0]]\n",
        "\n",
        "# 경사 하강법 구현\n",
        "for i in range(iters):\n",
        "    yp = pred(x, w)  # 예측값 계산\n",
        "    yd = yp - yt     # 예측값과 실제값의 차이 계산 (오차)\n",
        "\n",
        "    # 가중치 업데이트: 오차의 그래디언트를 사용하여 가중치 조정\n",
        "    w = w - alpha * (x.T @ yd) / 2\n",
        "\n",
        "    # 특정 간격으로 학습 상황 출력\n",
        "    if i % 1000 == 0:\n",
        "        loss = np.mean(yd ** 2)  # 평균 제곱 오차 계산\n",
        "        history.append([i, loss])\n",
        "        print(f'iter = {i}, loss = {loss:.2f}, w = ({w[0]:.2f}, {w[1]:.2f})')\n",
        "\n",
        "# 최종 결과 출력\n",
        "print(f'손실함수 초깃값: {history[1][1]:.2f}')\n",
        "print(f'손실함수 최종값: {history[-1][1]:.2f}')\n",
        "\n",
        "# 데이터와 모델의 예측 결과를 시각화\n",
        "import matplotlib.pyplot as plt\n",
        "plt.plot(x[:, 1], yt, 'bo')  # 실제값을 파란색 점으로 표시\n",
        "plt.plot(x[:, 1], yp, 'r')  # 모델의 예측값을 빨간색 선으로 표시\n",
        "plt.show()  # 그래프 보여주기\n"
      ]
    },
    {
      "cell_type": "markdown",
      "metadata": {
        "id": "e1KKQRFPQ60G"
      },
      "source": [
        "**P. 104 [코딩으로 해결하기]**"
      ]
    },
    {
      "cell_type": "code",
      "execution_count": 1,
      "metadata": {
        "id": "iSjA_lOPQ-8P",
        "colab": {
          "base_uri": "https://localhost:8080/",
          "height": 538
        },
        "outputId": "6a36ffbb-3541-433c-9bd3-9f8395443414"
      },
      "outputs": [
        {
          "output_type": "stream",
          "name": "stdout",
          "text": [
            "시그모이드 함수 그래프 \n",
            "\n"
          ]
        },
        {
          "output_type": "display_data",
          "data": {
            "text/plain": [
              "<Figure size 640x480 with 1 Axes>"
            ],
            "image/png": "[encoded data removed]"
          },
          "metadata": {}
        },
        {
          "output_type": "stream",
          "name": "stdout",
          "text": [
            "미분 결과:  exp(-x)/(1 + exp(-x))**2\n"
          ]
        }
      ],
      "source": [
        "# 시그모이드 함수(입력값의 범위를 0과 1 사이로 압축)\n",
        "\n",
        "import sympy as sym\n",
        "import numpy as np\n",
        "from sympy.plotting import plot\n",
        "\n",
        "# 시그모이드 함수를 정의하기 위한 기호 변수 x, y를 생성합니다.\n",
        "x = sym.symbols('x')\n",
        "y = sym.symbols('y')\n",
        "\n",
        "# y에 시그모이드 함수의 분모 부분을 정의합니다.\n",
        "y = 1 + sym.exp(-x)  # exp는 자연로그의 밑 e의 지수 함수를 나타냅니다.\n",
        "\n",
        "# 시그모이드 함수 gx를 정의합니다.\n",
        "gx = 1 / y  # 이는 로지스틱 함수의 일반적인 형태입니다.\n",
        "\n",
        "# 시그모이드 함수의 그래프를 출력합니다.\n",
        "print('시그모이드 함수 그래프 \\n')\n",
        "plot(gx)\n",
        "\n",
        "# gx를 x에 대해 미분합니다.\n",
        "g_x = sym.diff(gx, x)  # diff 함수는 주어진 표현식을 변수 x에 대해 미분합니다.\n",
        "\n",
        "# 미분 결과를 출력합니다.\n",
        "print('미분 결과: ', g_x)\n"
      ]
    },
    {
      "cell_type": "markdown",
      "metadata": {
        "id": "6YFQ95vmRFrv"
      },
      "source": [
        "**P. 107 [코딩으로 해결하기]**"
      ]
    },
    {
      "cell_type": "code",
      "execution_count": 2,
      "metadata": {
        "id": "xYHJd9MIRH6Z",
        "colab": {
          "base_uri": "https://localhost:8080/",
          "height": 435
        },
        "outputId": "96e0f9a5-f45f-4345-b500-c032f3bb6728"
      },
      "outputs": [
        {
          "output_type": "display_data",
          "data": {
            "text/plain": [
              "<Figure size 640x480 with 1 Axes>"
            ],
            "image/png": "[encoded data removed]"
          },
          "metadata": {}
        }
      ],
      "source": [
        "# 렐루 함수(입력이 0을 넘으면 그 입력을 그대로 출력하고, 0 이하이면 0을 출력하는 함수)\n",
        "\n",
        "import numpy as np\n",
        "import matplotlib.pylab as plt\n",
        "\n",
        "# 입력값이 100을 넘으면 입력값에서 100을 빼서 반환하고, 그렇지 않으면 0을 반환하는 함수입니다.\n",
        "def func(x):\n",
        "    if x <= 100:\n",
        "        return 0\n",
        "    else:\n",
        "        return x - 100\n",
        "\n",
        "# 1.0에서 119까지 정수 간격으로 배열 x를 생성합니다.\n",
        "x = np.arange(1.0, 120, 1)\n",
        "\n",
        "# y 값을 저장할 빈 리스트를 초기화합니다.\n",
        "y = []\n",
        "\n",
        "# x 배열의 각 값에 대해 func 함수를 적용하고 결과를 y 리스트에 추가합니다.\n",
        "for data in x:\n",
        "    y.append(func(data))\n",
        "\n",
        "# x와 y 데이터를 이용해 그래프를 그립니다.\n",
        "plt.plot(x, y)\n",
        "\n",
        "# y축의 범위를 0에서 18까지 제한합니다.\n",
        "plt.ylim(0, 18)\n",
        "\n",
        "# 그래프를 화면에 표시합니다.\n",
        "plt.show()\n"
      ]
    },
    {
      "cell_type": "markdown",
      "metadata": {
        "id": "1a943HLFRMz3"
      },
      "source": [
        "**P. 109 [코딩으로 해결하기]**"
      ]
    },
    {
      "cell_type": "code",
      "execution_count": 3,
      "metadata": {
        "id": "01Dbl0aERO9r",
        "colab": {
          "base_uri": "https://localhost:8080/"
        },
        "outputId": "9922b76c-7030-4923-da67-8910ba7540bf"
      },
      "outputs": [
        {
          "output_type": "stream",
          "name": "stdout",
          "text": [
            "[0.09003057 0.24472847 0.66524096]\n"
          ]
        }
      ],
      "source": [
        "# 소프트맥스 함수 : 입력받은 값을 0과 1 사이의 값으로 정규화하여 출력하고, 출력값들의 합이 1이 되도록 한다.\n",
        "\n",
        "import numpy as np\n",
        "\n",
        "def softMax( x ) :\n",
        "    return x / ( 1 + np.exp(1) + np.exp(2))\n",
        "\n",
        "X = np.exp(np.array( [0, 1, 2] ))\n",
        "Y = softMax( X )\n",
        "print( Y )"
      ]
    },
    {
      "cell_type": "markdown",
      "metadata": {
        "id": "tSGMmWuFRVl-"
      },
      "source": [
        "**p.111 [프로젝트] 인공 신경망을 이용한 AND 게이트 구현해 보기**"
      ]
    },
    {
      "cell_type": "markdown",
      "metadata": {
        "id": "snvaFSDXqY6p"
      },
      "source": [
        "다음 문제의 참고 사이트\n",
        "[퍼셉트론 and 게이트](https://davinci-ai.tistory.com/24)"
      ]
    },
    {
      "cell_type": "code",
      "execution_count": 5,
      "metadata": {
        "id": "kxG5UOLkRcIy",
        "colab": {
          "base_uri": "https://localhost:8080/"
        },
        "outputId": "6d1d1722-82fb-4e3f-ea66-5ceace1ffad4"
      },
      "outputs": [
        {
          "output_type": "stream",
          "name": "stdout",
          "text": [
            "[-1.25260715  0.68722648] [-0.19565592]\n"
          ]
        }
      ],
      "source": [
        "#tensorflow 사용하지 않는 np코드(이것으로 수업함)\n",
        "# 단계1: 데이터 설정하기\n",
        "import numpy as np\n",
        "X = np.array( [ [0,0], [0,1], [1,0], [1,1] ] )  #입력\n",
        "Y = np.array( [[0], [0], [0], [1]])            #출력\n",
        "\n",
        "#import tensorflow as tf\n",
        "w = np.random.normal( size = 2 )          #가중치\n",
        "b = np.random.normal( size = 1 )          #편향\n",
        "a = 0.1                                    #학습률\n",
        "print(w,b)"
      ]
    },
    {
      "cell_type": "code",
      "execution_count": 6,
      "metadata": {
        "id": "9IEk8P1YRfoY",
        "colab": {
          "base_uri": "https://localhost:8080/"
        },
        "outputId": "77e84cbd-9b42-4e89-9372-7bee5eede88f"
      },
      "outputs": [
        {
          "output_type": "stream",
          "name": "stdout",
          "text": [
            "0 [-0.51176774]\n",
            "1000 [-0.02944119]\n",
            "2000 [-0.01510075]\n",
            "3000 [-0.01011219]\n",
            "4000 [-0.00759046]\n",
            "5000 [-0.00607154]\n",
            "6000 [-0.00505744]\n",
            "7000 [-0.00433273]\n",
            "8000 [-0.00378919]\n",
            "9000 [-0.00336653]\n"
          ]
        }
      ],
      "source": [
        "#단계2: sigmoid함수 정의하고 학습시키기\n",
        "def sigmoid( x ) :\n",
        "    return 1/(1+np.exp(-x))\n",
        "\n",
        "for i in range( 10000 ) :\n",
        "    error_sum = 0\n",
        "    for j in range( 4 ) :\n",
        "        output = sigmoid( np.sum( X[j]*w ) + b)\n",
        "        error = Y[j][0] - output\n",
        "        w = w + X[j] * a * error\n",
        "        b = b + a * error\n",
        "        error_sum += error\n",
        "    if i % 1000 == 0 :\n",
        "        print( i, error_sum )\n"
      ]
    },
    {
      "cell_type": "code",
      "execution_count": 7,
      "metadata": {
        "id": "KOXPjyEmRk8C",
        "colab": {
          "base_uri": "https://localhost:8080/"
        },
        "outputId": "cbd0cde0-c09e-40a5-9474-223ad49b6771"
      },
      "outputs": [
        {
          "output_type": "stream",
          "name": "stdout",
          "text": [
            "X : [0 0] ==> 예측 Y : [1.82856638e-07]\n",
            "X : [0 1] ==> 예측 Y : [0.00504693]\n",
            "X : [1 0] ==> 예측 Y : [0.0050501]\n",
            "X : [1 1] ==> 예측 Y : [0.99294797]\n"
          ]
        }
      ],
      "source": [
        "#단계3: 각각의 입력 값에 따른 출력값 예측하기\n",
        "for i in range(4) :\n",
        "    print('X :', X[i], '==> 예측 Y :', sigmoid(np.sum(X[i]*w)+b))"
      ]
    }
  ],
  "metadata": {
    "colab": {
      "provenance": []
    },
    "kernelspec": {
      "display_name": "Python 3 (ipykernel)",
      "language": "python",
      "name": "python3"
    },
    "language_info": {
      "codemirror_mode": {
        "name": "ipython",
        "version": 3
      },
      "file_extension": ".py",
      "mimetype": "text/x-python",
      "name": "python",
      "nbconvert_exporter": "python",
      "pygments_lexer": "ipython3",
      "version": "3.10.9"
    }
  },
  "nbformat": 4,
  "nbformat_minor": 0
}