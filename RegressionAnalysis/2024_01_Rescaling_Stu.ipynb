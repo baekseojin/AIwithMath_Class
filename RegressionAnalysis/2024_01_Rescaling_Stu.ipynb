{
  "cells": [
    {
      "cell_type": "markdown",
      "metadata": {
        "id": "RKDbltijX6vM"
      },
      "source": [
        "# Ⅰ 데이터 처리"
      ]
    },
    {
      "cell_type": "code",
      "execution_count": 1,
      "metadata": {
        "colab": {
          "base_uri": "https://localhost:8080/"
        },
        "id": "YgFhi4aacxp8",
        "outputId": "d4f48bd5-5ac0-414b-d14e-4ac03a0ae90f"
      },
      "outputs": [
        {
          "output_type": "stream",
          "name": "stdout",
          "text": [
            "[176.5, 1.2]\n"
          ]
        }
      ],
      "source": [
        "A=[[176.5,1.2],[169.2,0.8],[180.3,0.1],[162.7,0.5]]\n",
        "print(A[0])\n"
      ]
    },
    {
      "cell_type": "code",
      "execution_count": 2,
      "metadata": {
        "colab": {
          "base_uri": "https://localhost:8080/"
        },
        "id": "WWAJ0onhcxp9",
        "outputId": "60cce79f-b1ad-4e8b-c442-9cbbc7d8d64a"
      },
      "outputs": [
        {
          "output_type": "stream",
          "name": "stdout",
          "text": [
            "[1, 2, 3, 2, 3, 4]\n"
          ]
        }
      ],
      "source": [
        "a=[1,2,3]\n",
        "b=[2,3,4]\n",
        "print(a+b)\n"
      ]
    },
    {
      "cell_type": "code",
      "execution_count": 4,
      "metadata": {
        "colab": {
          "base_uri": "https://localhost:8080/"
        },
        "id": "B6haVHFzcxp9",
        "outputId": "61f78242-5330-4fc1-f415-65a3924b3e87"
      },
      "outputs": [
        {
          "output_type": "stream",
          "name": "stdout",
          "text": [
            "[1 2 3]\n",
            "[2 3 4]\n",
            "[0.5        0.66666667 0.75      ]\n",
            "[1.3 2.6 3.9]\n"
          ]
        }
      ],
      "source": [
        "import numpy as np\n",
        "AA = np.array(a)\n",
        "BB = np.array(b)\n",
        "\n",
        "print(AA)\n",
        "print(BB)\n",
        "\n",
        "print(AA/BB)\n",
        "print(AA*1.3)\n",
        "\n"
      ]
    },
    {
      "cell_type": "code",
      "execution_count": 7,
      "metadata": {
        "colab": {
          "base_uri": "https://localhost:8080/"
        },
        "id": "FzSNvMsvcxp9",
        "outputId": "16cb7641-cec8-4c30-ceed-9b002c5d4883"
      },
      "outputs": [
        {
          "output_type": "stream",
          "name": "stdout",
          "text": [
            "[[1.765e+02 1.200e+00]\n",
            " [1.692e+02 8.000e-01]\n",
            " [1.803e+02 1.000e-01]\n",
            " [1.627e+02 5.000e-01]]\n",
            "[[1.765e+02 1.200e+00]\n",
            " [1.692e+02 8.000e-01]\n",
            " [1.803e+02 1.000e-01]\n",
            " [1.627e+02 5.000e-01]]\n",
            "[1.2 0.8 0.1 0.5]\n",
            "(4, 2)\n"
          ]
        }
      ],
      "source": [
        "A=[[176.5,1.2],[169.2,0.8],[180.3,0.1],[162.7,0.5]]\n",
        "PA = np.array(A)\n",
        "\n",
        "print(PA)\n",
        "\n",
        "# print(PA[:,0:])\n",
        "print(PA[:,1]) # 모든 행의 첫 번째 열 출력\n",
        "\n",
        "print(PA.shape) # 배열의 형태를 튜플로 반환"
      ]
    },
    {
      "cell_type": "markdown",
      "metadata": {
        "id": "thKFhRABcxp-"
      },
      "source": [
        "**표준화**"
      ]
    },
    {
      "cell_type": "code",
      "execution_count": 20,
      "metadata": {
        "colab": {
          "base_uri": "https://localhost:8080/"
        },
        "id": "UPTx2NZtcxp-",
        "outputId": "adc623ef-84ad-40cb-d120-6dd87623ac31"
      },
      "outputs": [
        {
          "output_type": "stream",
          "name": "stdout",
          "text": [
            "2\n",
            "가져온 데이터 [176.5 169.2 180.3 162.7]\n",
            "평균 172.175\n",
            "표준편차 6.77029356822879\n",
            "가져온 데이터 [1.2 0.8 0.1 0.5]\n",
            "평균 0.65\n",
            "표준편차 0.40311288741492746\n",
            "[[ 0.63882016  1.36438208]\n",
            " [-0.43941965  0.3721042 ]\n",
            " [ 1.20009567 -1.36438208]\n",
            " [-1.39949618 -0.3721042 ]]\n"
          ]
        }
      ],
      "source": [
        "import numpy as np\n",
        "\n",
        "Health=np.array([[176.5,1.2],[169.2,0.8],[180.3,0.1],[162.7,0.5]])\n",
        "Health_std=np.copy(Health) #배열의 복사본\n",
        "\n",
        "# print(Health.shape[1]) # 열의 갯수를 반환\n",
        "\n",
        "\n",
        "for i in range(Health.shape[1]):\n",
        "    # print('가져온 데이터', Health[:, i])\n",
        "    avg=np.mean(Health[:, i])  # 모든 행의 i번째 열\n",
        "    # print('평균', avg)\n",
        "    std=np.std(Health[:, i])      # 모든 행의 i번째 열\n",
        "    # print('표준편차', std)\n",
        "    Health_std[:,i]=(Health[:, i] - avg) / std\n",
        "print(Health_std)\n"
      ]
    },
    {
      "cell_type": "markdown",
      "metadata": {
        "id": "elv9wcYdcxp_"
      },
      "source": [
        "**정규화**"
      ]
    },
    {
      "cell_type": "code",
      "execution_count": 21,
      "metadata": {
        "colab": {
          "base_uri": "https://localhost:8080/"
        },
        "id": "BhaLeQptcxp_",
        "outputId": "ada0e4ea-7c17-46af-aff4-bf0167254e48"
      },
      "outputs": [
        {
          "output_type": "stream",
          "name": "stdout",
          "text": [
            "162.7 180.3\n",
            "0.1 1.2\n",
            "[[0.78409091 1.        ]\n",
            " [0.36931818 0.63636364]\n",
            " [1.         0.        ]\n",
            " [0.         0.36363636]]\n"
          ]
        }
      ],
      "source": [
        "import numpy as np\n",
        "\n",
        "Health = np.array([[176.5, 1.2], [169.2, 0.8], [180.3, 0.1], [162.7, 0.5]])\n",
        "Health_norm = np.copy(Health)\n",
        "for i in range(Health.shape[1]): # 각 열에 대해서 반복\n",
        "    min_val = np.min(Health[:, i]) # 각 열의 최소값\n",
        "    max_val = np.max(Health[:, i]) # 각 열의 최대값\n",
        "    print(min_val, max_val)\n",
        "    Health_norm[:, i] = (Health[:, i] - min_val) / (max_val - min_val) # 정규화 수행\n",
        "print(Health_norm)\n"
      ]
    },
    {
      "cell_type": "markdown",
      "metadata": {
        "id": "vsCUzlaecxp_"
      },
      "source": [
        "**sklearn Library**"
      ]
    },
    {
      "cell_type": "code",
      "execution_count": 22,
      "metadata": {
        "colab": {
          "base_uri": "https://localhost:8080/"
        },
        "id": "Z47_qI7IcxqA",
        "outputId": "32b8b0f5-7bd6-4c0c-e23d-6b5f9715ebec"
      },
      "outputs": [
        {
          "output_type": "stream",
          "name": "stdout",
          "text": [
            "표준화(사이킷런 라이브러리) : \n",
            " [[ 0.63882016  1.36438208]\n",
            " [-0.43941965  0.3721042 ]\n",
            " [ 1.20009567 -1.36438208]\n",
            " [-1.39949618 -0.3721042 ]]\n",
            "\n"
          ]
        }
      ],
      "source": [
        "import numpy as np\n",
        "from sklearn.preprocessing import StandardScaler\n",
        "\n",
        "# 표준화 - 사이킷런 라이브러리 활용\n",
        "Health = np.array([[176.5, 1.2], [169.2, 0.8], [180.3, 0.1], [162.7, 0.5]])\n",
        "scaler = StandardScaler()  # StandardScaler 인스턴스 생성\n",
        "Health_std2 = scaler.fit_transform(Health)  # fit_transform 메소드로 데이터 표준화\n",
        "print('표준화(사이킷런 라이브러리) : \\n', Health_std2)\n",
        "print()\n"
      ]
    },
    {
      "cell_type": "code",
      "execution_count": 23,
      "metadata": {
        "colab": {
          "base_uri": "https://localhost:8080/"
        },
        "id": "HP-80s9xcxqA",
        "outputId": "051cce57-9ee8-49d5-df98-3082bdef8582"
      },
      "outputs": [
        {
          "output_type": "stream",
          "name": "stdout",
          "text": [
            "[[0.78409091 1.        ]\n",
            " [0.36931818 0.63636364]\n",
            " [1.         0.        ]\n",
            " [0.         0.36363636]]\n"
          ]
        }
      ],
      "source": [
        "import numpy as np\n",
        "from sklearn.preprocessing import MinMaxScaler\n",
        "\n",
        "# 정규화 - 사이킷런 라이브러리 활용\n",
        "Health = np.array([[176.5, 1.2], [169.2, 0.8], [180.3, 0.1], [162.7, 0.5]])\n",
        "scaler = MinMaxScaler()  # MinMaxScaler 인스턴스 생성\n",
        "Health_norm2 = scaler.fit_transform(Health)  # fit_transform 메소드로 데이터 정규화\n",
        "print(Health_norm2)\n"
      ]
    }
  ],
  "metadata": {
    "colab": {
      "provenance": []
    },
    "kernelspec": {
      "display_name": "Python 3 (ipykernel)",
      "language": "python",
      "name": "python3"
    },
    "language_info": {
      "codemirror_mode": {
        "name": "ipython",
        "version": 3
      },
      "file_extension": ".py",
      "mimetype": "text/x-python",
      "name": "python",
      "nbconvert_exporter": "python",
      "pygments_lexer": "ipython3",
      "version": "3.10.9"
    }
  },
  "nbformat": 4,
  "nbformat_minor": 0
}